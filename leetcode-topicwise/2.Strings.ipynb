{
 "cells": [
  {
   "cell_type": "code",
   "execution_count": 1,
   "metadata": {},
   "outputs": [
    {
     "name": "stdout",
     "output_type": "stream",
     "text": [
      "Output: olleh\n"
     ]
    }
   ],
   "source": [
    "# Reverse String\n",
    "# Problem: https://leetcode.com/problems/reverse-string/description/\n",
    "\n",
    "def reverse_string(s):\n",
    "    \"\"\"\n",
    "    Reverse the input string s in-place.\n",
    "    \"\"\"\n",
    "    s = list(s)  # Convert string to list to allow mutation\n",
    "    left, right = 0, len(s) - 1\n",
    "    while left < right:\n",
    "        s[left], s[right] = s[right], s[left]\n",
    "        left += 1\n",
    "        right -= 1\n",
    "    return ''.join(s)\n",
    "\n",
    "# Sample Input\n",
    "s = \"hello\"\n",
    "\n",
    "# Expected Output: \"olleh\"\n",
    "print(\"Output:\", reverse_string(s))\n",
    "\n",
    "# Time Complexity: O(n)\n",
    "# Space Complexity: O(n)\n"
   ]
  },
  {
   "cell_type": "code",
   "execution_count": 2,
   "metadata": {},
   "outputs": [
    {
     "name": "stdout",
     "output_type": "stream",
     "text": [
      "Output: True\n"
     ]
    }
   ],
   "source": [
    "# Valid Palindrome\n",
    "# Problem: https://leetcode.com/problems/valid-palindrome/description/\n",
    "\n",
    "def is_palindrome(s):\n",
    "    \"\"\"\n",
    "    Determine if the input string s is a palindrome, considering only alphanumeric characters and ignoring case.\n",
    "    \"\"\"\n",
    "    s = ''.join(c.lower() for c in s if c.isalnum())\n",
    "    return s == s[::-1]\n",
    "\n",
    "# Sample Input\n",
    "s = \"A man, a plan, a canal: Panama\"\n",
    "\n",
    "# Expected Output: True\n",
    "print(\"Output:\", is_palindrome(s))\n",
    "\n",
    "# Time Complexity: O(n)\n",
    "# Space Complexity: O(n)"
   ]
  },
  {
   "cell_type": "code",
   "execution_count": 3,
   "metadata": {},
   "outputs": [
    {
     "name": "stdout",
     "output_type": "stream",
     "text": [
      "Output: 3\n"
     ]
    }
   ],
   "source": [
    "# Longest Substring Without Repeating Characters\n",
    "# Problem: https://leetcode.com/problems/longest-substring-without-repeating-characters/description/\n",
    "\n",
    "def length_of_longest_substring(s):\n",
    "    \"\"\"\n",
    "    Find the length of the longest substring without repeating characters.\n",
    "    \"\"\"\n",
    "    char_map = {}\n",
    "    start = max_len = 0\n",
    "    for end, char in enumerate(s):\n",
    "        if char in char_map and char_map[char] >= start:\n",
    "            start = char_map[char] + 1\n",
    "        char_map[char] = end\n",
    "        max_len = max(max_len, end - start + 1)\n",
    "    return max_len\n",
    "\n",
    "# Sample Input\n",
    "s = \"abcabcbb\"\n",
    "\n",
    "# Expected Output: 3\n",
    "print(\"Output:\", length_of_longest_substring(s))\n",
    "\n",
    "# Time Complexity: O(n)\n",
    "# Space Complexity: O(min(n, m)), where n is the length of the string and m is the character set size"
   ]
  },
  {
   "cell_type": "code",
   "execution_count": 4,
   "metadata": {},
   "outputs": [
    {
     "name": "stdout",
     "output_type": "stream",
     "text": [
      "Output: [['eat', 'tea', 'ate'], ['tan', 'nat'], ['bat']]\n"
     ]
    }
   ],
   "source": [
    "# Group Anagrams\n",
    "# Problem: https://leetcode.com/problems/group-anagrams/description/\n",
    "\n",
    "def group_anagrams(strs):\n",
    "    \"\"\"\n",
    "    Group anagrams from the list of strings strs.\n",
    "    \"\"\"\n",
    "    anagram_map = {}\n",
    "    for s in strs:\n",
    "        sorted_str = ''.join(sorted(s))\n",
    "        if sorted_str not in anagram_map:\n",
    "            anagram_map[sorted_str] = []\n",
    "        anagram_map[sorted_str].append(s)\n",
    "    return list(anagram_map.values())\n",
    "\n",
    "# Sample Input\n",
    "strs = [\"eat\", \"tea\", \"tan\", \"ate\", \"nat\", \"bat\"]\n",
    "\n",
    "# Expected Output: [[\"eat\", \"tea\", \"ate\"], [\"tan\", \"nat\"], [\"bat\"]]\n",
    "print(\"Output:\", group_anagrams(strs))\n",
    "\n",
    "# Time Complexity: O(n * k log k), where n is the number of strings and k is the average length of a string\n",
    "# Space Complexity: O(n * k)"
   ]
  },
  {
   "cell_type": "code",
   "execution_count": 5,
   "metadata": {},
   "outputs": [
    {
     "name": "stdout",
     "output_type": "stream",
     "text": [
      "Output: bab\n"
     ]
    }
   ],
   "source": [
    "# Longest Palindromic Substring\n",
    "# Problem: https://leetcode.com/problems/longest-palindromic-substring/description/\n",
    "\n",
    "def longest_palindrome(s):\n",
    "    \"\"\"\n",
    "    Find the longest palindromic substring in s.\n",
    "    \"\"\"\n",
    "    def expand_around_center(left, right):\n",
    "        while left >= 0 and right < len(s) and s[left] == s[right]:\n",
    "            left -= 1\n",
    "            right += 1\n",
    "        return s[left + 1:right]\n",
    "\n",
    "    longest = \"\"\n",
    "    for i in range(len(s)):\n",
    "        odd_palindrome = expand_around_center(i, i)\n",
    "        even_palindrome = expand_around_center(i, i + 1)\n",
    "        longest = max(longest, odd_palindrome, even_palindrome, key=len)\n",
    "    return longest\n",
    "\n",
    "# Sample Input\n",
    "s = \"babad\"\n",
    "\n",
    "# Expected Output: \"bab\" or \"aba\"\n",
    "print(\"Output:\", longest_palindrome(s))\n",
    "\n",
    "# Time Complexity: O(n^2)\n",
    "# Space Complexity: O(1)"
   ]
  }
 ],
 "metadata": {
  "kernelspec": {
   "display_name": "Python 3",
   "language": "python",
   "name": "python3"
  },
  "language_info": {
   "codemirror_mode": {
    "name": "ipython",
    "version": 3
   },
   "file_extension": ".py",
   "mimetype": "text/x-python",
   "name": "python",
   "nbconvert_exporter": "python",
   "pygments_lexer": "ipython3",
   "version": "3.12.3"
  }
 },
 "nbformat": 4,
 "nbformat_minor": 2
}

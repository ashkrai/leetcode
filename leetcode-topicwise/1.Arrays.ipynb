{
 "cells": [
  {
   "cell_type": "code",
   "execution_count": 5,
   "metadata": {},
   "outputs": [
    {
     "name": "stdout",
     "output_type": "stream",
     "text": [
      "Output: [0, 1]\n"
     ]
    }
   ],
   "source": [
    "# Two Sum\n",
    "# Problem: https://leetcode.com/problems/two-sum/description/\n",
    "\n",
    "def two_sum(nums, target):\n",
    "    \"\"\"\n",
    "    Find two indices in nums such that nums[i] + nums[j] == target.\n",
    "    \"\"\"\n",
    "    num_map = {}\n",
    "    for i in range(len(nums)):\n",
    "        complement = target - nums[i]\n",
    "        if complement in num_map:\n",
    "            return [num_map[complement], i]\n",
    "        num_map[nums[i]] = i\n",
    "\n",
    "# Sample Input\n",
    "nums = [2, 7, 11, 15] \n",
    "target = 9\n",
    "\n",
    "# Expected Output: [0, 1]\n",
    "print(\"Output:\", two_sum(nums, target))\n",
    "\n",
    "# Time Complexity: O(n)\n",
    "# Space Complexity: O(n)\n"
   ]
  },
  {
   "cell_type": "code",
   "execution_count": 6,
   "metadata": {},
   "outputs": [
    {
     "name": "stdout",
     "output_type": "stream",
     "text": [
      "Output: 5\n"
     ]
    }
   ],
   "source": [
    "# Best Time to Buy and Sell Stock\n",
    "# Problem: https://leetcode.com/problems/best-time-to-buy-and-sell-stock/description/\n",
    "\n",
    "def max_profit(prices):\n",
    "    \"\"\"\n",
    "    Calculate the maximum profit from a single buy and sell.\n",
    "    \"\"\"\n",
    "    min_price = float('inf')\n",
    "    max_profit = 0\n",
    "    for price in prices:\n",
    "        min_price = min(min_price, price)\n",
    "        max_profit = max(max_profit, price - min_price)\n",
    "    return max_profit\n",
    "\n",
    "# Sample Input\n",
    "prices = [7, 1, 5, 3, 6, 4]\n",
    "\n",
    "# Expected Output: 5\n",
    "print(\"Output:\", max_profit(prices))\n",
    "\n",
    "# Time Complexity: O(n)\n",
    "# Space Complexity: O(1)"
   ]
  },
  {
   "cell_type": "code",
   "execution_count": 3,
   "metadata": {},
   "outputs": [
    {
     "name": "stdout",
     "output_type": "stream",
     "text": [
      "Output: 6\n"
     ]
    }
   ],
   "source": [
    "# Maximum Subarray\n",
    "# Problem: https://leetcode.com/problems/maximum-subarray/description/\n",
    "\n",
    "def max_sub_array(nums):\n",
    "    \"\"\"\n",
    "    Find the contiguous subarray with the largest sum.\n",
    "    \"\"\"\n",
    "    max_sum = nums[0]\n",
    "    current_sum = nums[0]\n",
    "    for i in range(1, len(nums)):\n",
    "        current_sum = max(nums[i], current_sum + nums[i])\n",
    "        max_sum = max(max_sum, current_sum)\n",
    "    return max_sum\n",
    "\n",
    "# Sample Input\n",
    "nums = [-2, 1, -3, 4, -1, 2, 1, -5, 4]\n",
    "\n",
    "# Expected Output: 6\n",
    "print(\"Output:\", max_sub_array(nums))\n",
    "\n",
    "# Time Complexity: O(n)\n",
    "# Space Complexity: O(1)"
   ]
  },
  {
   "cell_type": "code",
   "execution_count": 7,
   "metadata": {},
   "outputs": [
    {
     "name": "stdout",
     "output_type": "stream",
     "text": [
      "Output: 49\n"
     ]
    }
   ],
   "source": [
    "# Container with Most Water\n",
    "# Problem: https://leetcode.com/problems/container-with-most-water/description/\n",
    "\n",
    "def max_area(height):\n",
    "    \"\"\"\n",
    "    Calculate the maximum area of water that can be contained.\n",
    "    \"\"\"\n",
    "    left, right = 0, len(height) - 1\n",
    "    max_area = 0\n",
    "    while left < right:\n",
    "        h = min(height[left], height[right])\n",
    "        w = right - left\n",
    "        area = h * w\n",
    "        max_area = max(max_area, area)\n",
    "        if height[left] < height[right]:\n",
    "            left += 1\n",
    "        else:\n",
    "            right -= 1\n",
    "    return max_area\n",
    "\n",
    "# Sample Input\n",
    "height = [1, 8, 6, 2, 5, 4, 8, 3, 7]\n",
    "\n",
    "# Expected Output: 49\n",
    "print(\"Output:\", max_area(height))\n",
    "\n",
    "# Time Complexity: O(n)\n",
    "# Space Complexity: O(1)"
   ]
  },
  {
   "cell_type": "code",
   "execution_count": 5,
   "metadata": {},
   "outputs": [
    {
     "name": "stdout",
     "output_type": "stream",
     "text": [
      "Output: [5, 6, 7, 1, 2, 3, 4]\n"
     ]
    }
   ],
   "source": [
    "# Rotate Array\n",
    "# Problem: https://leetcode.com/problems/rotate-array/description/\n",
    "\n",
    "def rotate(nums, k):\n",
    "    \"\"\"\n",
    "    Rotate the array to the right by k steps.\n",
    "    \"\"\"\n",
    "    n = len(nums)\n",
    "    k = k % n  # In case k is greater than the length of nums\n",
    "    reverse(nums, 0, n - 1)\n",
    "    reverse(nums, 0, k - 1)\n",
    "    reverse(nums, k, n - 1)\n",
    "\n",
    "def reverse(nums, start, end):\n",
    "    \"\"\"\n",
    "    Reverse the elements of nums from index start to index end in-place.\n",
    "    \"\"\"\n",
    "    while start < end:\n",
    "        nums[start], nums[end] = nums[end], nums[start]\n",
    "        start += 1\n",
    "        end -= 1\n",
    "\n",
    "# Sample Input\n",
    "nums = [1, 2, 3, 4, 5, 6, 7]\n",
    "k = 3\n",
    "\n",
    "# Rotate the array\n",
    "rotate(nums, k)\n",
    "\n",
    "# Expected Output: [5, 6, 7, 1, 2, 3, 4]\n",
    "print(\"Output:\", nums)\n",
    "\n",
    "# Time Complexity: O(n)\n",
    "# Space Complexity: O(1)"
   ]
  }
 ],
 "metadata": {
  "kernelspec": {
   "display_name": "Python 3",
   "language": "python",
   "name": "python3"
  },
  "language_info": {
   "codemirror_mode": {
    "name": "ipython",
    "version": 3
   },
   "file_extension": ".py",
   "mimetype": "text/x-python",
   "name": "python",
   "nbconvert_exporter": "python",
   "pygments_lexer": "ipython3",
   "version": "3.12.3"
  }
 },
 "nbformat": 4,
 "nbformat_minor": 2
}

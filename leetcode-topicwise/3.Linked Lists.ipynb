{
 "cells": [
  {
   "cell_type": "code",
   "execution_count": null,
   "metadata": {},
   "outputs": [
    {
     "name": "stdout",
     "output_type": "stream",
     "text": [
      "5 -> 4 -> 3 -> 2 -> 1 -> "
     ]
    }
   ],
   "source": [
    "# Reverse Linked List\n",
    "# Problem: https://leetcode.com/problems/reverse-linked-list/description/\n",
    "\n",
    "class ListNode:\n",
    "    def __init__(self, val=0, next=None):\n",
    "        self.val = val\n",
    "        self.next = next\n",
    "\n",
    "def reverse_linked_list(head):\n",
    "    \"\"\"\n",
    "    Reverse a singly linked list.\n",
    "    \"\"\"\n",
    "    prev = None\n",
    "    current = head\n",
    "    while current:\n",
    "        next_node = current.next\n",
    "        current.next = prev\n",
    "        prev = current\n",
    "        current = next_node\n",
    "    return prev\n",
    "\n",
    "# Sample Input\n",
    "head = ListNode(1)\n",
    "head.next = ListNode(2)\n",
    "head.next.next = ListNode(3)\n",
    "head.next.next.next = ListNode(4)\n",
    "head.next.next.next.next = ListNode(5)\n",
    "\n",
    "# Reverse the linked list\n",
    "reversed_head = reverse_linked_list(head)\n",
    "\n",
    "# Print the reversed list\n",
    "current = reversed_head\n",
    "while current:\n",
    "    print(current.val, end=\" -> \")\n",
    "    current = current.next\n",
    "\n",
    "# Expected Output: 5 -> 4 -> 3 -> 2 -> 1 ->\n",
    "\n",
    "# Time Complexity: O(n)\n",
    "# Space Complexity: O(1)\n",
    "# The algorithm iterates through the list once, reversing the pointers in-place, resulting in linear time complexity\n",
    "#     and constant space complexity. \n"
   ]
  },
  {
   "cell_type": "code",
   "execution_count": null,
   "metadata": {},
   "outputs": [
    {
     "name": "stdout",
     "output_type": "stream",
     "text": [
      "1 -> 1 -> 2 -> 3 -> 4 -> 4 -> "
     ]
    }
   ],
   "source": [
    "# Merge Two Sorted Lists\n",
    "# Problem: https://leetcode.com/problems/merge-two-sorted-lists/description/\n",
    "\n",
    "def merge_two_sorted_lists(l1, l2):\n",
    "    \"\"\"\n",
    "    Merge two sorted linked lists into one sorted list.\n",
    "    \"\"\"\n",
    "    dummy = ListNode()\n",
    "    current = dummy\n",
    "    while l1 and l2:\n",
    "        if l1.val < l2.val:\n",
    "            current.next = l1\n",
    "            l1 = l1.next\n",
    "        else:\n",
    "            current.next = l2\n",
    "            l2 = l2.next\n",
    "        current = current.next\n",
    "    current.next = l1 if l1 else l2\n",
    "    return dummy.next\n",
    "\n",
    "# Sample Input\n",
    "l1 = ListNode(1)\n",
    "l1.next = ListNode(2)\n",
    "l1.next.next = ListNode(4)\n",
    "\n",
    "l2 = ListNode(1)\n",
    "l2.next = ListNode(3)\n",
    "l2.next.next = ListNode(4)\n",
    "\n",
    "# Merge the two sorted lists\n",
    "merged_head = merge_two_sorted_lists(l1, l2)\n",
    "\n",
    "# Print the merged list\n",
    "current = merged_head\n",
    "while current:\n",
    "    print(current.val, end=\" -> \")\n",
    "    current = current.next\n",
    "\n",
    "# Expected Output: 1 -> 1 -> 2 -> 3 -> 4 -> 4 -> \n",
    "\n",
    "# Time Complexity: O(n + m)\n",
    "# Space Complexity: O(1)\n",
    "# The algorithm iterates through both lists once, merging them in sorted order, resulting in linear time complexity\n",
    "#     and constant space complexity."
   ]
  },
  {
   "cell_type": "code",
   "execution_count": null,
   "metadata": {},
   "outputs": [
    {
     "name": "stdout",
     "output_type": "stream",
     "text": [
      "1 -> 2 -> 3 -> 5 -> "
     ]
    }
   ],
   "source": [
    "# Remove Nth Node From End of List\n",
    "# Problem: https://leetcode.com/problems/remove-nth-node-from-end-of-list/description/\n",
    "\n",
    "def remove_nth_from_end(head, n):\n",
    "    \"\"\"\n",
    "    Remove the nth node from the end of the list.\n",
    "    \"\"\"\n",
    "    dummy = ListNode(0)\n",
    "    dummy.next = head\n",
    "    fast = slow = dummy\n",
    "    for _ in range(n + 1):\n",
    "        fast = fast.next\n",
    "    while fast:\n",
    "        fast = fast.next\n",
    "        slow = slow.next\n",
    "    slow.next = slow.next.next\n",
    "    return dummy.next\n",
    "\n",
    "# Sample Input\n",
    "head = ListNode(1)\n",
    "head.next = ListNode(2)\n",
    "head.next.next = ListNode(3)\n",
    "head.next.next.next = ListNode(4)\n",
    "head.next.next.next.next = ListNode(5)\n",
    "\n",
    "n = 2\n",
    "\n",
    "# Remove the nth node from the end\n",
    "new_head = remove_nth_from_end(head, n)\n",
    "\n",
    "# Print the modified list\n",
    "current = new_head\n",
    "while current:\n",
    "    print(current.val, end=\" -> \")\n",
    "    current = current.next\n",
    "\n",
    "# Expected Output: 1 -> 2 -> 3 -> 5 -> \n",
    "\n",
    "# Time Complexity: O(n)\n",
    "# Space Complexity: O(1)\n",
    "# The algorithm uses two pointers to find and remove the nth node from the end in a single pass,\n",
    "#     resulting in linear time complexity and constant space complexity."
   ]
  },
  {
   "cell_type": "code",
   "execution_count": null,
   "metadata": {},
   "outputs": [
    {
     "name": "stdout",
     "output_type": "stream",
     "text": [
      "True\n"
     ]
    }
   ],
   "source": [
    "# Linked List Cycle\n",
    "# Problem: https://leetcode.com/problems/linked-list-cycle/description/\n",
    "\n",
    "def has_cycle(head):\n",
    "    \"\"\"\n",
    "    Detect if a linked list has a cycle.\n",
    "    \"\"\"\n",
    "    slow = fast = head\n",
    "    while fast and fast.next:\n",
    "        slow = slow.next\n",
    "        fast = fast.next.next\n",
    "        if slow == fast:\n",
    "            return True\n",
    "    return False\n",
    "\n",
    "# Sample Input\n",
    "head = ListNode(3)\n",
    "head.next = ListNode(2)\n",
    "head.next.next = ListNode(0)\n",
    "head.next.next.next = ListNode(-4)\n",
    "head.next.next.next.next = head.next  # Creates a cycle\n",
    "\n",
    "# Check if the list has a cycle\n",
    "print(has_cycle(head))  # Expected Output: True\n",
    "\n",
    "# Time Complexity: O(n)\n",
    "# Space Complexity: O(1)\n",
    "# The algorithm uses two pointers moving at different speeds to detect a cycle,\n",
    "#     resulting in linear time complexity and constant space complexity."
   ]
  },
  {
   "cell_type": "code",
   "execution_count": null,
   "metadata": {},
   "outputs": [
    {
     "name": "stdout",
     "output_type": "stream",
     "text": [
      "8\n"
     ]
    }
   ],
   "source": [
    "# Intersection of Two Linked Lists\n",
    "# Problem: https://leetcode.com/problems/intersection-of-two-linked-lists/description/\n",
    "\n",
    "def get_intersection_node(headA, headB):\n",
    "    \"\"\"\n",
    "    Find the node where two linked lists intersect.\n",
    "    \"\"\"\n",
    "    if not headA or not headB:\n",
    "        return None\n",
    "    ptrA, ptrB = headA, headB\n",
    "    while ptrA != ptrB:\n",
    "        ptrA = ptrA.next if ptrA else headB\n",
    "        ptrB = ptrB.next if ptrB else headA\n",
    "    return ptrA\n",
    "\n",
    "# Sample Input\n",
    "headA = ListNode(4)\n",
    "headA.next = ListNode(1)\n",
    "headA.next.next = ListNode(8)\n",
    "headA.next.next.next = ListNode(4)\n",
    "headA.next.next.next.next = ListNode(5)\n",
    "\n",
    "headB = ListNode(5)\n",
    "headB.next = ListNode(0)\n",
    "headB.next.next = ListNode(1)\n",
    "headB.next.next.next = headA.next.next  # Intersection at node with value 8\n",
    "\n",
    "# Find the intersection node\n",
    "intersection = get_intersection_node(headA, headB)\n",
    "\n",
    "# Print the intersection node\n",
    "print(intersection.val if intersection else \"No intersection\")  # Expected Output: 8\n",
    "\n",
    "# Time Complexity: O(n + m)\n",
    "# Space Complexity: O(1)\n",
    "# The algorithm uses two pointers to traverse both lists, resulting in linear time complexity and constant space complexity."
   ]
  }
 ],
 "metadata": {
  "kernelspec": {
   "display_name": "Python 3",
   "language": "python",
   "name": "python3"
  },
  "language_info": {
   "codemirror_mode": {
    "name": "ipython",
    "version": 3
   },
   "file_extension": ".py",
   "mimetype": "text/x-python",
   "name": "python",
   "nbconvert_exporter": "python",
   "pygments_lexer": "ipython3",
   "version": "3.12.3"
  }
 },
 "nbformat": 4,
 "nbformat_minor": 2
}
